{
 "cells": [
  {
   "cell_type": "code",
   "execution_count": 515,
   "metadata": {},
   "outputs": [],
   "source": [
    "import torch\n",
    "import torch.nn.functional as F\n",
    "import matplotlib.pyplot as plt\n",
    "%matplotlib inline\n",
    "\n",
    "words = open('names.txt', 'r').read().splitlines()\n"
   ]
  },
  {
   "cell_type": "code",
   "execution_count": 516,
   "metadata": {},
   "outputs": [
    {
     "name": "stdout",
     "output_type": "stream",
     "text": [
      "{1: 'a', 2: 'b', 3: 'c', 4: 'd', 5: 'e', 6: 'f', 7: 'g', 8: 'h', 9: 'i', 10: 'j', 11: 'k', 12: 'l', 13: 'm', 14: 'n', 15: 'o', 16: 'p', 17: 'q', 18: 'r', 19: 's', 20: 't', 21: 'u', 22: 'v', 23: 'w', 24: 'x', 25: 'y', 26: 'z', 0: '.'}\n"
     ]
    }
   ],
   "source": [
    "chars = sorted(list(set(''.join(words))))\n",
    "stoi = {s: i+1 for i, s in enumerate(chars)}\n",
    "stoi['.'] = 0\n",
    "itos = {i: s for s, i in stoi.items()}\n",
    "print(itos)\n"
   ]
  },
  {
   "cell_type": "code",
   "execution_count": 517,
   "metadata": {},
   "outputs": [
    {
     "name": "stdout",
     "output_type": "stream",
     "text": [
      "torch.Size([182625, 3]) torch.Size([182625])\n",
      "torch.Size([22655, 3]) torch.Size([22655])\n",
      "torch.Size([22866, 3]) torch.Size([22866])\n"
     ]
    }
   ],
   "source": [
    "# hyper parameters\n",
    "# context length: how many previous tokens will be used to predict the next\n",
    "import random\n",
    "block_size = 3\n",
    "emb_dim = 10  # dimension of embedding vector\n",
    "h_size = 300  # size of hidden layer\n",
    "epochs = 200000\n",
    "batch_size = 64\n",
    "\n",
    "\n",
    "def build_dataset(words):\n",
    "    ins, outs = [], []\n",
    "\n",
    "    for w in words:\n",
    "        # for w in words[:5]:\n",
    "        # print(w)\n",
    "        context = [0] * block_size  # init empty context for first word\n",
    "        for ch in (w+'.'):\n",
    "            ix = stoi[ch]\n",
    "            ins.append(context)\n",
    "            outs.append(ix)\n",
    "            # print(''.join(itos[i] for i in context), '---->', itos[ix])\n",
    "            context = context[1:] + [ix]  # move forward in context\n",
    "\n",
    "    ins = torch.tensor(ins)\n",
    "    outs = torch.tensor(outs)\n",
    "    print(ins.shape, outs.shape)\n",
    "    return ins, outs\n",
    "\n",
    "\n",
    "random.seed(42)\n",
    "random.shuffle(words)\n",
    "n1 = int(0.8*len(words))\n",
    "n2 = int(0.9*len(words))\n",
    "\n",
    "in_train, out_train = build_dataset(words[:n1])\n",
    "in_val, out_val = build_dataset(words[n1:n2])\n",
    "in_test, out_test = build_dataset(words[n2:])\n"
   ]
  },
  {
   "cell_type": "code",
   "execution_count": 518,
   "metadata": {},
   "outputs": [
    {
     "data": {
      "text/plain": [
       "17697"
      ]
     },
     "execution_count": 518,
     "metadata": {},
     "output_type": "execute_result"
    }
   ],
   "source": [
    "# two dimensional embedding for each 27 characters\n",
    "C = torch.randn((len(itos), emb_dim))\n",
    "# hidden layer\n",
    "# 100 neurons in the hidden layer, each with an input of (3 context len * 2-dim vector)\n",
    "W1 = torch.randn(((block_size*emb_dim), h_size))\n",
    "b1 = torch.randn(h_size)\n",
    "# output layer\n",
    "W2 = torch.randn((h_size, len(itos)))\n",
    "b2 = torch.randn(len(itos))\n",
    "\n",
    "parameters = [C, W1, b1, W2, b2]\n",
    "\n",
    "for p in parameters:\n",
    "    p.requires_grad = True\n",
    "\n",
    "sum(p.nelement() for p in parameters)\n"
   ]
  },
  {
   "cell_type": "code",
   "execution_count": 519,
   "metadata": {},
   "outputs": [],
   "source": [
    "# decreasing learning rate\n",
    "lre = torch.linspace(-3, 0, epochs)\n",
    "lrs = 10**lre\n"
   ]
  },
  {
   "cell_type": "code",
   "execution_count": 520,
   "metadata": {},
   "outputs": [
    {
     "name": "stdout",
     "output_type": "stream",
     "text": [
      "1.994176983833313\n"
     ]
    }
   ],
   "source": [
    "lri = []\n",
    "lossi = []\n",
    "stepi = []\n",
    "\n",
    "for i in range(epochs):\n",
    "    # minibatch\n",
    "    ix = torch.randint(0, in_train.shape[0], (batch_size,))\n",
    "\n",
    "    # forward pass\n",
    "    emb = C[in_train[ix]]\n",
    "    h = torch.tanh(emb.view(-1, (block_size*emb_dim)) @ W1 + b1)\n",
    "    logits = h @ W2 + b2\n",
    "    loss = F.cross_entropy(logits, out_train[ix])\n",
    "    # print(loss.item())\n",
    "\n",
    "    # backward pass\n",
    "    for p in parameters:\n",
    "        p.grad = None\n",
    "    loss.backward()\n",
    "\n",
    "    # update\n",
    "    # lr = lrs[i]\n",
    "    lr = 0.1 if i < 100000 else 0.01\n",
    "    for p in parameters:\n",
    "        p.data += -lr * p.grad\n",
    "\n",
    "    # track stats\n",
    "    # lri.append(lre[i])\n",
    "    lossi.append(loss.log10().item())\n",
    "    stepi.append(i)\n",
    "\n",
    "print(loss.item())\n"
   ]
  },
  {
   "cell_type": "code",
   "execution_count": 521,
   "metadata": {},
   "outputs": [
    {
     "data": {
      "text/plain": [
       "[<matplotlib.lines.Line2D at 0x7f6bdee9cdd0>]"
      ]
     },
     "execution_count": 521,
     "metadata": {},
     "output_type": "execute_result"
    },
    {
     "data": {
      "image/png": "[encoded data removed]",
      "text/plain": [
       "<Figure size 640x480 with 1 Axes>"
      ]
     },
     "metadata": {},
     "output_type": "display_data"
    }
   ],
   "source": [
    "plt.plot(stepi, lossi)\n"
   ]
  },
  {
   "cell_type": "code",
   "execution_count": 522,
   "metadata": {},
   "outputs": [
    {
     "data": {
      "text/plain": [
       "2.1113123893737793"
      ]
     },
     "execution_count": 522,
     "metadata": {},
     "output_type": "execute_result"
    }
   ],
   "source": [
    "# loss on training dataset\n",
    "emb = C[in_train]\n",
    "h = torch.tanh(emb.view(-1, (block_size*emb_dim)) @ W1 + b1)\n",
    "logits = h @ W2 + b2\n",
    "loss = F.cross_entropy(logits, out_train)\n",
    "loss.item()\n"
   ]
  },
  {
   "cell_type": "code",
   "execution_count": 523,
   "metadata": {},
   "outputs": [
    {
     "data": {
      "text/plain": [
       "2.1802868843078613"
      ]
     },
     "execution_count": 523,
     "metadata": {},
     "output_type": "execute_result"
    }
   ],
   "source": [
    "# loss on validation dataset\n",
    "emb = C[in_val]\n",
    "h = torch.tanh(emb.view(-1, (block_size*emb_dim)) @ W1 + b1)\n",
    "logits = h @ W2 + b2\n",
    "loss = F.cross_entropy(logits, out_val)\n",
    "loss.item()\n"
   ]
  },
  {
   "cell_type": "code",
   "execution_count": 524,
   "metadata": {},
   "outputs": [
    {
     "data": {
      "image/png": "[encoded data removed]",
      "text/plain": [
       "<Figure size 800x800 with 1 Axes>"
      ]
     },
     "metadata": {},
     "output_type": "display_data"
    }
   ],
   "source": [
    "plt.figure(figsize=(8, 8))\n",
    "plt.scatter(C[:, 0].data, C[:, 1].data, s=200)\n",
    "for i in range(C.shape[0]):\n",
    "    plt.text(C[i, 0].item(), C[i, 1].item(), itos[i],\n",
    "             ha=\"center\", va=\"center\", color='white')\n",
    "plt.grid('minor')\n"
   ]
  },
  {
   "cell_type": "code",
   "execution_count": 532,
   "metadata": {},
   "outputs": [
    {
     "name": "stdout",
     "output_type": "stream",
     "text": [
      "beth.\n",
      "zyani.\n",
      "demellen.\n",
      "tyuuberlin.\n",
      "mohtana.\n",
      "kalaniola.\n",
      "samarian.\n",
      "lela.\n",
      "zophios.\n",
      "tae.\n",
      "baylynn.\n",
      "mehlyn.\n",
      "keh.\n",
      "adean.\n",
      "kaliyah.\n",
      "bracy.\n",
      "uakaison.\n",
      "maxtyna.\n",
      "seina.\n",
      "maa.\n"
     ]
    }
   ],
   "source": [
    "# sampling from model\n",
    "g = torch.Generator().manual_seed(1001+1)\n",
    "for i in range(20):\n",
    "    out = []\n",
    "    s_context = [0] * block_size\n",
    "    while True:\n",
    "        s_emb = C[torch.tensor([s_context])]\n",
    "        s_h = torch.tanh(s_emb.view(1, -1) @ W1 + b1)\n",
    "        s_logits = s_h @ W2 + b2\n",
    "        s_probs = F.softmax(s_logits, dim=1)\n",
    "        s_ix = torch.multinomial(s_probs, num_samples=1, generator=g).item()\n",
    "        s_context = s_context[1:] + [s_ix]\n",
    "        out.append(s_ix)\n",
    "        if s_ix == 0:\n",
    "            break\n",
    "    print(''.join(itos[i] for i in out))\n"
   ]
  }
 ],
 "metadata": {
  "kernelspec": {
   "display_name": "Python 3",
   "language": "python",
   "name": "python3"
  },
  "language_info": {
   "codemirror_mode": {
    "name": "ipython",
    "version": 3
   },
   "file_extension": ".py",
   "mimetype": "text/x-python",
   "name": "python",
   "nbconvert_exporter": "python",
   "pygments_lexer": "ipython3",
   "version": "3.11.3"
  },
  "orig_nbformat": 4
 },
 "nbformat": 4,
 "nbformat_minor": 2
}
