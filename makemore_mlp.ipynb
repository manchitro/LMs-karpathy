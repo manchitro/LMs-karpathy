{
 "cells": [
  {
   "cell_type": "code",
   "execution_count": 1,
   "metadata": {},
   "outputs": [],
   "source": [
    "import torch\n",
    "import torch.nn.functional as F\n",
    "import matplotlib.pyplot as plt\n",
    "%matplotlib inline\n",
    "\n",
    "words = open('names.txt', 'r').read().splitlines()\n"
   ]
  },
  {
   "cell_type": "code",
   "execution_count": 2,
   "metadata": {},
   "outputs": [
    {
     "name": "stdout",
     "output_type": "stream",
     "text": [
      "{1: 'a', 2: 'b', 3: 'c', 4: 'd', 5: 'e', 6: 'f', 7: 'g', 8: 'h', 9: 'i', 10: 'j', 11: 'k', 12: 'l', 13: 'm', 14: 'n', 15: 'o', 16: 'p', 17: 'q', 18: 'r', 19: 's', 20: 't', 21: 'u', 22: 'v', 23: 'w', 24: 'x', 25: 'y', 26: 'z', 0: '.'}\n"
     ]
    }
   ],
   "source": [
    "chars = sorted(list(set(''.join(words))))\n",
    "stoi = {s: i+1 for i, s in enumerate(chars)}\n",
    "stoi['.'] = 0\n",
    "itos = {i: s for s, i in stoi.items()}\n",
    "print(itos)\n"
   ]
  },
  {
   "cell_type": "code",
   "execution_count": 3,
   "metadata": {},
   "outputs": [
    {
     "name": "stdout",
     "output_type": "stream",
     "text": [
      "torch.Size([182625, 3]) torch.Size([182625])\n",
      "torch.Size([22655, 3]) torch.Size([22655])\n",
      "torch.Size([22866, 3]) torch.Size([22866])\n"
     ]
    }
   ],
   "source": [
    "# hyper parameters\n",
    "import random\n",
    "block_size = 3 # context length: how many previous tokens will be used to predict the next\n",
    "emb_dim = 10  # dimension of embedding vector\n",
    "h_size = 300  # size of hidden layer\n",
    "epochs = 200000\n",
    "batch_size = 64\n",
    "\n",
    "\n",
    "def build_dataset(words):\n",
    "    ins, outs = [], []\n",
    "\n",
    "    for w in words:\n",
    "        # for w in words[:5]:\n",
    "        # print(w)\n",
    "        context = [0] * block_size  # init empty context for first word\n",
    "        for ch in (w+'.'):\n",
    "            ix = stoi[ch]\n",
    "            ins.append(context)\n",
    "            outs.append(ix)\n",
    "            # print(''.join(itos[i] for i in context), '---->', itos[ix])\n",
    "            context = context[1:] + [ix]  # move forward in context\n",
    "\n",
    "    ins = torch.tensor(ins)\n",
    "    outs = torch.tensor(outs)\n",
    "    print(ins.shape, outs.shape)\n",
    "    return ins, outs\n",
    "\n",
    "\n",
    "random.seed(42)\n",
    "random.shuffle(words)\n",
    "n1 = int(0.8*len(words))\n",
    "n2 = int(0.9*len(words))\n",
    "\n",
    "in_train, out_train = build_dataset(words[:n1])\n",
    "in_val, out_val = build_dataset(words[n1:n2])\n",
    "in_test, out_test = build_dataset(words[n2:])\n"
   ]
  },
  {
   "cell_type": "code",
   "execution_count": 4,
   "metadata": {},
   "outputs": [
    {
     "data": {
      "text/plain": [
       "17697"
      ]
     },
     "execution_count": 4,
     "metadata": {},
     "output_type": "execute_result"
    }
   ],
   "source": [
    "# two dimensional embedding for each 27 characters\n",
    "C = torch.randn((len(itos), emb_dim))\n",
    "# hidden layer\n",
    "# 100 neurons in the hidden layer, each with an input of (3 context len * 2-dim vector)\n",
    "W1 = torch.randn(((block_size*emb_dim), h_size))\n",
    "b1 = torch.randn(h_size)\n",
    "# output layer\n",
    "W2 = torch.randn((h_size, len(itos)))\n",
    "b2 = torch.randn(len(itos))\n",
    "\n",
    "parameters = [C, W1, b1, W2, b2]\n",
    "\n",
    "for p in parameters:\n",
    "    p.requires_grad = True\n",
    "\n",
    "sum(p.nelement() for p in parameters)\n"
   ]
  },
  {
   "cell_type": "code",
   "execution_count": 5,
   "metadata": {},
   "outputs": [],
   "source": [
    "# decreasing learning rate\n",
    "lre = torch.linspace(-3, 0, epochs)\n",
    "lrs = 10**lre\n"
   ]
  },
  {
   "cell_type": "code",
   "execution_count": 6,
   "metadata": {},
   "outputs": [
    {
     "name": "stdout",
     "output_type": "stream",
     "text": [
      "      0/ 200000: 26.5461\n",
      "  10000/ 200000: 2.4011\n",
      "  20000/ 200000: 2.3923\n",
      "  30000/ 200000: 2.0567\n",
      "  40000/ 200000: 2.4599\n",
      "  50000/ 200000: 2.1312\n",
      "  60000/ 200000: 2.2533\n",
      "  70000/ 200000: 2.4567\n",
      "  80000/ 200000: 2.2168\n",
      "  90000/ 200000: 1.8824\n",
      " 100000/ 200000: 1.9476\n",
      " 110000/ 200000: 2.2555\n",
      " 120000/ 200000: 2.1721\n",
      " 130000/ 200000: 2.1303\n",
      " 140000/ 200000: 2.2005\n",
      " 150000/ 200000: 1.9871\n",
      " 160000/ 200000: 2.3164\n",
      " 170000/ 200000: 1.8515\n",
      " 180000/ 200000: 2.2549\n",
      " 190000/ 200000: 1.9113\n",
      "1.938140869140625\n"
     ]
    }
   ],
   "source": [
    "lri = []\n",
    "lossi = []\n",
    "stepi = []\n",
    "\n",
    "for i in range(epochs):\n",
    "\t# minibatch\n",
    "\tix = torch.randint(0, in_train.shape[0], (batch_size,))\n",
    "\tin_b, out_b = in_train[ix], out_train[ix]\n",
    "\n",
    "\t# forward pass\n",
    "\temb = C[in_b]\n",
    "\temb_cat = emb.view(-1, (block_size*emb_dim))\n",
    "\th = torch.tanh(emb_cat @ W1 + b1)\n",
    "\tlogits = h @ W2 + b2\n",
    "\tloss = F.cross_entropy(logits, out_b)\n",
    "\t# print(loss.item())\n",
    "\n",
    "\t# backward pass\n",
    "\tfor p in parameters:\n",
    "\t\tp.grad = None\n",
    "\tloss.backward()\n",
    "\n",
    "\t# update\n",
    "\t# lr = lrs[i]\n",
    "\tlr = 0.1 if i < 100000 else 0.01\n",
    "\tfor p in parameters:\n",
    "\t\tp.data += -lr * p.grad\n",
    "\n",
    "\t# track stats\n",
    "\tif i % 10000 == 0:\n",
    "\t\tprint(f'{i:7d}/{epochs:7d}: {loss.item():.4f}')\n",
    "\tlossi.append(loss.log10().item())\n",
    "\tstepi.append(i)\n",
    "\n",
    "print(loss.item())"
   ]
  },
  {
   "cell_type": "code",
   "execution_count": 7,
   "metadata": {},
   "outputs": [
    {
     "data": {
      "text/plain": [
       "[<matplotlib.lines.Line2D at 0x7f29cf355850>]"
      ]
     },
     "execution_count": 7,
     "metadata": {},
     "output_type": "execute_result"
    },
    {
     "data": {
      "image/png": "[encoded data removed]",
      "text/plain": [
       "<Figure size 640x480 with 1 Axes>"
      ]
     },
     "metadata": {},
     "output_type": "display_data"
    }
   ],
   "source": [
    "plt.plot(stepi, lossi)"
   ]
  },
  {
   "cell_type": "code",
   "execution_count": 8,
   "metadata": {},
   "outputs": [
    {
     "name": "stdout",
     "output_type": "stream",
     "text": [
      "train 2.103692054748535\n",
      "val 2.1585264205932617\n"
     ]
    }
   ],
   "source": [
    "@torch. no_grad() # this decorator disables gradient tracking\n",
    "def split_loss (split):\n",
    "\tx, y = {\n",
    "\t\t'train': (in_train, out_train),\n",
    "\t\t'val': (in_val, out_val),\n",
    "\t\t'test': (in_test, out_test),\n",
    "\t}[split]\n",
    "\temb = C[x] # (N, block_size, n_embd)\n",
    "\tembcat = emb.view(emb.shape[0], -1) # concat into (N, block_ size * n_embd)\n",
    "\th = torch.tanh(embcat @ W1 + b1) # (N, n_hidden)\n",
    "\tlogits = h @ W2 + b2 # (N, vocab_size)\n",
    "\tloss = F.cross_entropy(logits, y)\n",
    "\tprint (split, loss.item())\n",
    "\n",
    "split_loss('train')\n",
    "split_loss ('val')"
   ]
  },
  {
   "cell_type": "code",
   "execution_count": 11,
   "metadata": {},
   "outputs": [
    {
     "data": {
      "image/png": "[encoded data removed]",
      "text/plain": [
       "<Figure size 800x800 with 1 Axes>"
      ]
     },
     "metadata": {},
     "output_type": "display_data"
    }
   ],
   "source": [
    "plt.figure(figsize=(8, 8))\n",
    "plt.scatter(C[:, 0].data, C[:, 1].data, s=200)\n",
    "for i in range(C.shape[0]):\n",
    "    plt.text(C[i, 0].item(), C[i, 1].item(), itos[i],\n",
    "             ha=\"center\", va=\"center\", color='white')\n",
    "plt.grid('minor')\n"
   ]
  },
  {
   "cell_type": "code",
   "execution_count": 12,
   "metadata": {},
   "outputs": [
    {
     "name": "stdout",
     "output_type": "stream",
     "text": [
      "betceri.\n",
      "tihariellen.\n",
      "tymuetron.\n",
      "carlo.\n",
      "alandrah.\n",
      "oli.\n",
      "samari.\n",
      "nalena.\n",
      "zouna.\n",
      "elenestann.\n",
      "corieh.\n",
      "chareh.\n",
      "nilah.\n",
      "malo.\n",
      "aowbin.\n",
      "yziah.\n",
      "hosmi.\n",
      "shi.\n",
      "kabdeina.\n",
      "maa.\n"
     ]
    }
   ],
   "source": [
    "# sampling from model\n",
    "g = torch.Generator().manual_seed(1001+1)\n",
    "for i in range(20):\n",
    "    out = []\n",
    "    s_context = [0] * block_size\n",
    "    while True:\n",
    "        s_emb = C[torch.tensor([s_context])]\n",
    "        s_h = torch.tanh(s_emb.view(1, -1) @ W1 + b1)\n",
    "        s_logits = s_h @ W2 + b2\n",
    "        s_probs = F.softmax(s_logits, dim=1)\n",
    "        s_ix = torch.multinomial(s_probs, num_samples=1, generator=g).item()\n",
    "        s_context = s_context[1:] + [s_ix]\n",
    "        out.append(s_ix)\n",
    "        if s_ix == 0:\n",
    "            break\n",
    "    print(''.join(itos[i] for i in out))\n"
   ]
  }
 ],
 "metadata": {
  "kernelspec": {
   "display_name": "Python 3",
   "language": "python",
   "name": "python3"
  },
  "language_info": {
   "codemirror_mode": {
    "name": "ipython",
    "version": 3
   },
   "file_extension": ".py",
   "mimetype": "text/x-python",
   "name": "python",
   "nbconvert_exporter": "python",
   "pygments_lexer": "ipython3",
   "version": "3.11.3"
  },
  "orig_nbformat": 4
 },
 "nbformat": 4,
 "nbformat_minor": 2
}
