{
 "cells": [
  {
   "cell_type": "code",
   "execution_count": 773,
   "metadata": {},
   "outputs": [],
   "source": [
    "import math\n",
    "import numpy as np\n",
    "import matplotlib.pyplot as plt\n",
    "\n",
    "%matplotlib inline\n",
    "\n",
    "\n",
    "def f(x):\n",
    "    return 3*x**2 - 4*x + 5"
   ]
  },
  {
   "cell_type": "code",
   "execution_count": 774,
   "metadata": {},
   "outputs": [
    {
     "data": {
      "text/plain": [
       "20.0"
      ]
     },
     "execution_count": 774,
     "metadata": {},
     "output_type": "execute_result"
    }
   ],
   "source": [
    "f(3.0)"
   ]
  },
  {
   "cell_type": "code",
   "execution_count": 775,
   "metadata": {},
   "outputs": [
    {
     "data": {
      "text/plain": [
       "[<matplotlib.lines.Line2D at 0x7fd2a43e1010>]"
      ]
     },
     "execution_count": 775,
     "metadata": {},
     "output_type": "execute_result"
    },
    {
     "data": {
      "image/png": "[encoded data removed]",
      "text/plain": [
       "<Figure size 640x480 with 1 Axes>"
      ]
     },
     "metadata": {},
     "output_type": "display_data"
    }
   ],
   "source": [
    "xs = np.arange(-5, 5, 0.25)\n",
    "plt.plot(xs, f(xs))"
   ]
  },
  {
   "cell_type": "code",
   "execution_count": 776,
   "metadata": {},
   "outputs": [
    {
     "data": {
      "text/plain": [
       "14.000003002223593"
      ]
     },
     "execution_count": 776,
     "metadata": {},
     "output_type": "execute_result"
    }
   ],
   "source": [
    "h = 0.000001\n",
    "x = 3.0\n",
    "(f(x + h) - f(x)) / h"
   ]
  },
  {
   "cell_type": "code",
   "execution_count": 777,
   "metadata": {},
   "outputs": [
    {
     "name": "stdout",
     "output_type": "stream",
     "text": [
      "d 4.0\n",
      "da 3.9999969999999996\n",
      "slope -3.000000000419334\n",
      "d 4.0\n",
      "db 4.000002\n",
      "slope 2.000000000279556\n",
      "d 4.0\n",
      "dc 4.000002\n",
      "slope 0.9999999992515995\n"
     ]
    }
   ],
   "source": [
    "a = 2.0\n",
    "b = -3.0\n",
    "c = 10.0\n",
    "d = a*b + c\n",
    "\n",
    "a2 = a + h\n",
    "da = a2*b + c\n",
    "\n",
    "print('d', d)\n",
    "print('da', da)\n",
    "print('slope', (da - d) / h)\n",
    "\n",
    "b2 = b + h\n",
    "db = a*b2 + c\n",
    "\n",
    "print('d', d)\n",
    "print('db', db)\n",
    "print('slope', (db - d) / h)\n",
    "\n",
    "\n",
    "c2 = c + h\n",
    "dc = a*b + c2\n",
    "\n",
    "print('d', d)\n",
    "print('dc', db)\n",
    "print('slope', (dc - d) / h)"
   ]
  },
  {
   "cell_type": "code",
   "execution_count": 778,
   "metadata": {},
   "outputs": [],
   "source": [
    "class Value():\n",
    "\tdef __init__(self, data, _children=(), _op='', label='_'):\n",
    "\t\tself.data = data\n",
    "\t\tself.grad = 0\n",
    "\t\tself._backward = lambda: None\n",
    "\t\tself._prev = set(_children)\n",
    "\t\tself._op = _op\n",
    "\t\tself.label = label\n",
    "\t\n",
    "\tdef __repr__(self) -> str:\n",
    "\t\treturn f\"Value({self.label if self.label != '' else '_'} data={self.data})\"\n",
    "\n",
    "\tdef __add__(self, other):\n",
    "\t\tother = other if isinstance(other, Value) else Value(other)\n",
    "\t\tout = Value(self.data + other.data, (self, other), '+')\n",
    "\n",
    "\t\tdef _backward():\n",
    "\t\t\tself.grad += 1.0 * out.grad\n",
    "\t\t\tother.grad += 1.0 * out.grad\n",
    "\t\t\n",
    "\t\tout._backward = _backward\n",
    "\t\treturn out\n",
    "\n",
    "\tdef __radd__(self, other): # other + self\n",
    "\t\treturn self + other\n",
    "\n",
    "\tdef __sub__(self, other):\n",
    "\t\treturn (self + (-other))\n",
    "\n",
    "\tdef __rsub__(self, other):\n",
    "\t\treturn (self + (-other))\n",
    "\n",
    "\tdef __neg__(self):\n",
    "\t\treturn self * -1\n",
    "\t\n",
    "\tdef __mul__(self, other):\n",
    "\t\tother = other if isinstance(other, Value) else Value(other)\n",
    "\t\tout = Value(self.data * other.data, (self, other), '*')\n",
    "\n",
    "\t\tdef _backward():\n",
    "\t\t\tself.grad += other.data * out.grad\n",
    "\t\t\tother.grad += self.data * out.grad\n",
    "\t\tout._backward = _backward\n",
    "\t\treturn out\n",
    "\n",
    "\tdef __rmul__(self, other):\n",
    "\t\treturn self * other\n",
    "\n",
    "\tdef exp(self):\n",
    "\t\tx = self.data\n",
    "\t\tout = Value(math.exp(x), (self,), 'exp')\n",
    "\n",
    "\t\tdef _backward():\n",
    "\t\t\tself.grad += out.data * out.grad\n",
    "\n",
    "\t\tout._backward = _backward\n",
    "\t\treturn out\n",
    "\n",
    "\tdef __pow__(self, other):\n",
    "\t\tassert isinstance(other, (int, float)), f\"other must be int or float, but {type(other)}\"\n",
    "\t\tout = Value(self.data**other, (self,), f'**{other}')\n",
    "\n",
    "\t\tdef _backward():\n",
    "\t\t\tself.grad += other * (self.data**(other-1)) * out.grad\n",
    "\n",
    "\t\tout._backward = _backward\n",
    "\n",
    "\t\treturn out\n",
    "\n",
    "\tdef __truediv__(self, other):\n",
    "\t\treturn self * other**-1\n",
    "\t\n",
    "\tdef tanh(self):\n",
    "\t\tout = Value(math.tanh(self.data), (self,), 'tanh')\n",
    "\t\tdef _backward():\n",
    "\t\t\tself.grad += (1 - out.data**2) * out.grad\n",
    "\n",
    "\t\tout._backward = _backward\n",
    "\t\treturn out\n",
    "\n",
    "\tdef backward(self):\n",
    "\t\ttopo = []\n",
    "\t\tvisited = set()\n",
    "\t\tdef build_topo(v):\n",
    "\t\t\tif v not in visited:\n",
    "\t\t\t\tvisited.add(v)\n",
    "\t\t\t\tfor child in v._prev:\n",
    "\t\t\t\t\tbuild_topo(child)\n",
    "\t\t\t\ttopo.append(v)\n",
    "\t\tbuild_topo(self)\n",
    "\n",
    "\t\tself.grad = 1.0\n",
    "\t\tfor node in reversed(topo):\n",
    "\t\t\tnode._backward()"
   ]
  },
  {
   "cell_type": "code",
   "execution_count": 779,
   "metadata": {},
   "outputs": [],
   "source": [
    "from graphviz import Digraph\n",
    "\n",
    "def trace(root):\n",
    "  # builds a set of all nodes and edges in a graph\n",
    "  nodes, edges = set(), set()\n",
    "  def build(v):\n",
    "    if v not in nodes:\n",
    "      nodes.add(v)\n",
    "      for child in v._prev:\n",
    "        edges.add((child, v))\n",
    "        build(child)\n",
    "  build(root)\n",
    "  return nodes, edges\n",
    "\n",
    "def draw_dot(root):\n",
    "  dot = Digraph(format='svg', graph_attr={'rankdir': 'LR'}) # LR = left to right\n",
    "  \n",
    "  nodes, edges = trace(root)\n",
    "  for n in nodes:\n",
    "    uid = str(id(n))\n",
    "    # for any value in the graph, create a rectangular ('record') node for it\n",
    "    dot.node(name = uid, label = \"{ %s | %.4f | grad %.4f }\" % (n.label, n.data, n.grad), shape='record')\n",
    "    if n._op:\n",
    "      # if this value is a result of some operation, create an op node for it\n",
    "      dot.node(name = uid + n._op, label = n._op)\n",
    "      # and connect this node to it\n",
    "      dot.edge(uid + n._op, uid)\n",
    "\n",
    "  for n1, n2 in edges:\n",
    "    # connect n1 to the op node of n2\n",
    "    dot.edge(str(id(n1)), str(id(n2)) + n2._op)\n",
    "\n",
    "  return dot"
   ]
  },
  {
   "cell_type": "code",
   "execution_count": 780,
   "metadata": {},
   "outputs": [],
   "source": [
    "# single neuron backprop using Value class\n",
    "\n",
    "# inputs\n",
    "x1 = Value(2.0, label='x1')\n",
    "x2 = Value(0.0, label='x2')\n",
    "# weights and bias\n",
    "w1 = Value(-3.0, label='w1')\n",
    "w2 = Value(1.0, label='w2')\n",
    "b = Value(6.8813735870195432, label='b')\n",
    "# input x weight + b\n",
    "x1w1 = x1*w1; x1w1.label = 'x1*w1'\n",
    "x2w2 = x2*w2; x2w2.label = 'x2*w2'\n",
    "x1w1x2w2 = x1w1+x2w2; x1w1x2w2.label = 'x1*w1 + x2*w2'\n",
    "n = x1w1x2w2 + b; n.label = 'n'\n",
    "e = (2*n).exp(); e.label = 'e'\n",
    "o = (e-1)/(e+1); o.label = 'o'\n",
    "# o = n.tanh(); o.label = 'o'"
   ]
  },
  {
   "cell_type": "code",
   "execution_count": 781,
   "metadata": {},
   "outputs": [
    {
     "data": {
      "image/svg+xml": "<?xml version=\"1.0\" encoding=\"UTF-8\" standalone=\"no\"?>\n<!DOCTYPE svg PUBLIC \"-//W3C//DTD SVG 1.1//EN\"\n \"http://www.w3.org/Graphics/SVG/1.1/DTD/svg11.dtd\">\n<!-- Generated by graphviz version 8.0.5 (0)\n -->\n<!-- Pages: 1 -->\n<svg width=\"3062pt\" height=\"210pt\"\n viewBox=\"0.00 0.00 3061.72 210.00\" xmlns=\"http://www.w3.org/2000/svg\" xmlns:xlink=\"http://www.w3.org/1999/xlink\">\n<g id=\"graph0\" class=\"graph\" transform=\"scale(1 1) rotate(0) translate(4 206)\">\n<polygon fill=\"white\" stroke=\"none\" points=\"-4,4 -4,-206 3057.72,-206 3057.72,4 -4,4\"/>\n<!-- 140542703229968 -->\n<g id=\"node1\" class=\"node\">\n<title>140542703229968</title>\n<polygon fill=\"none\" stroke=\"black\" points=\"2316.47,-53.5 2316.47,-89.5 2507.72,-89.5 2507.72,-53.5 2316.47,-53.5\"/>\n<text text-anchor=\"middle\" x=\"2327.85\" y=\"-67.2\" font-family=\"Times,serif\" font-size=\"14.00\">_</text>\n<polyline fill=\"none\" stroke=\"black\" points=\"2339.22,-54.25 2339.22,-89.5\"/>\n<text text-anchor=\"middle\" x=\"2371.97\" y=\"-67.2\" font-family=\"Times,serif\" font-size=\"14.00\">4.8284</text>\n<polyline fill=\"none\" stroke=\"black\" points=\"2404.72,-54.25 2404.72,-89.5\"/>\n<text text-anchor=\"middle\" x=\"2456.22\" y=\"-67.2\" font-family=\"Times,serif\" font-size=\"14.00\">grad 0.1464</text>\n</g>\n<!-- 140542703231184* -->\n<g id=\"node13\" class=\"node\">\n<title>140542703231184*</title>\n<ellipse fill=\"none\" stroke=\"black\" cx=\"2797.97\" cy=\"-98.5\" rx=\"27\" ry=\"18\"/>\n<text text-anchor=\"middle\" x=\"2797.97\" y=\"-93.83\" font-family=\"Times,serif\" font-size=\"14.00\">*</text>\n</g>\n<!-- 140542703229968&#45;&gt;140542703231184* -->\n<g id=\"edge13\" class=\"edge\">\n<title>140542703229968&#45;&gt;140542703231184*</title>\n<path fill=\"none\" stroke=\"black\" d=\"M2507.5,-78.14C2588.87,-83.86 2702.1,-91.83 2759.87,-95.89\"/>\n<polygon fill=\"black\" stroke=\"black\" points=\"2759.43,-99.44 2769.66,-96.65 2759.93,-92.46 2759.43,-99.44\"/>\n</g>\n<!-- 140542703229968+ -->\n<g id=\"node2\" class=\"node\">\n<title>140542703229968+</title>\n<ellipse fill=\"none\" stroke=\"black\" cx=\"2021.72\" cy=\"-71.5\" rx=\"27\" ry=\"18\"/>\n<text text-anchor=\"middle\" x=\"2021.72\" y=\"-66.83\" font-family=\"Times,serif\" font-size=\"14.00\">+</text>\n</g>\n<!-- 140542703229968+&#45;&gt;140542703229968 -->\n<g id=\"edge1\" class=\"edge\">\n<title>140542703229968+&#45;&gt;140542703229968</title>\n<path fill=\"none\" stroke=\"black\" d=\"M2049.11,-71.5C2100.98,-71.5 2218.76,-71.5 2305.96,-71.5\"/>\n<polygon fill=\"black\" stroke=\"black\" points=\"2305.71,-75 2315.71,-71.5 2305.71,-68 2305.71,-75\"/>\n</g>\n<!-- 140542703226384 -->\n<g id=\"node3\" class=\"node\">\n<title>140542703226384</title>\n<polygon fill=\"none\" stroke=\"black\" points=\"1762.97,-26.5 1762.97,-62.5 1958.72,-62.5 1958.72,-26.5 1762.97,-26.5\"/>\n<text text-anchor=\"middle\" x=\"1774.35\" y=\"-40.2\" font-family=\"Times,serif\" font-size=\"14.00\">_</text>\n<polyline fill=\"none\" stroke=\"black\" points=\"1785.72,-27.25 1785.72,-62.5\"/>\n<text text-anchor=\"middle\" x=\"1820.72\" y=\"-40.2\" font-family=\"Times,serif\" font-size=\"14.00\">&#45;1.0000</text>\n<polyline fill=\"none\" stroke=\"black\" points=\"1855.72,-27.25 1855.72,-62.5\"/>\n<text text-anchor=\"middle\" x=\"1907.22\" y=\"-40.2\" font-family=\"Times,serif\" font-size=\"14.00\">grad 0.1464</text>\n</g>\n<!-- 140542703226384&#45;&gt;140542703229968+ -->\n<g id=\"edge27\" class=\"edge\">\n<title>140542703226384&#45;&gt;140542703229968+</title>\n<path fill=\"none\" stroke=\"black\" d=\"M1958.39,-60.91C1967.57,-62.47 1976.44,-63.97 1984.46,-65.34\"/>\n<polygon fill=\"black\" stroke=\"black\" points=\"1983.74,-68.94 1994.19,-67.16 1984.91,-62.03 1983.74,-68.94\"/>\n</g>\n<!-- 140542673452048 -->\n<g id=\"node4\" class=\"node\">\n<title>140542673452048</title>\n<polygon fill=\"none\" stroke=\"black\" points=\"336,-110.5 336,-146.5 570,-146.5 570,-110.5 336,-110.5\"/>\n<text text-anchor=\"middle\" x=\"366.5\" y=\"-124.2\" font-family=\"Times,serif\" font-size=\"14.00\">x1*w1</text>\n<polyline fill=\"none\" stroke=\"black\" points=\"397,-111.25 397,-146.5\"/>\n<text text-anchor=\"middle\" x=\"432\" y=\"-124.2\" font-family=\"Times,serif\" font-size=\"14.00\">&#45;6.0000</text>\n<polyline fill=\"none\" stroke=\"black\" points=\"467,-111.25 467,-146.5\"/>\n<text text-anchor=\"middle\" x=\"518.5\" y=\"-124.2\" font-family=\"Times,serif\" font-size=\"14.00\">grad 0.5000</text>\n</g>\n<!-- 140542673447312+ -->\n<g id=\"node26\" class=\"node\">\n<title>140542673447312+</title>\n<ellipse fill=\"none\" stroke=\"black\" cx=\"633\" cy=\"-100.5\" rx=\"27\" ry=\"18\"/>\n<text text-anchor=\"middle\" x=\"633\" y=\"-95.83\" font-family=\"Times,serif\" font-size=\"14.00\">+</text>\n</g>\n<!-- 140542673452048&#45;&gt;140542673447312+ -->\n<g id=\"edge12\" class=\"edge\">\n<title>140542673452048&#45;&gt;140542673447312+</title>\n<path fill=\"none\" stroke=\"black\" d=\"M568.24,-110.53C578.02,-108.99 587.35,-107.52 595.71,-106.21\"/>\n<polygon fill=\"black\" stroke=\"black\" points=\"596.13,-109.53 605.46,-104.52 595.04,-102.61 596.13,-109.53\"/>\n</g>\n<!-- 140542673452048* -->\n<g id=\"node5\" class=\"node\">\n<title>140542673452048*</title>\n<ellipse fill=\"none\" stroke=\"black\" cx=\"273\" cy=\"-128.5\" rx=\"27\" ry=\"18\"/>\n<text text-anchor=\"middle\" x=\"273\" y=\"-123.83\" font-family=\"Times,serif\" font-size=\"14.00\">*</text>\n</g>\n<!-- 140542673452048*&#45;&gt;140542673452048 -->\n<g id=\"edge2\" class=\"edge\">\n<title>140542673452048*&#45;&gt;140542673452048</title>\n<path fill=\"none\" stroke=\"black\" d=\"M300.26,-128.5C307.56,-128.5 316.01,-128.5 325.1,-128.5\"/>\n<polygon fill=\"black\" stroke=\"black\" points=\"325.04,-132 335.04,-128.5 325.04,-125 325.04,-132\"/>\n</g>\n<!-- 140542697678800 -->\n<g id=\"node6\" class=\"node\">\n<title>140542697678800</title>\n<polygon fill=\"none\" stroke=\"black\" points=\"0,-165.5 0,-201.5 210,-201.5 210,-165.5 0,-165.5\"/>\n<text text-anchor=\"middle\" x=\"18.5\" y=\"-179.2\" font-family=\"Times,serif\" font-size=\"14.00\">w1</text>\n<polyline fill=\"none\" stroke=\"black\" points=\"37,-166.25 37,-201.5\"/>\n<text text-anchor=\"middle\" x=\"72\" y=\"-179.2\" font-family=\"Times,serif\" font-size=\"14.00\">&#45;3.0000</text>\n<polyline fill=\"none\" stroke=\"black\" points=\"107,-166.25 107,-201.5\"/>\n<text text-anchor=\"middle\" x=\"158.5\" y=\"-179.2\" font-family=\"Times,serif\" font-size=\"14.00\">grad 1.0000</text>\n</g>\n<!-- 140542697678800&#45;&gt;140542673452048* -->\n<g id=\"edge28\" class=\"edge\">\n<title>140542697678800&#45;&gt;140542673452048*</title>\n<path fill=\"none\" stroke=\"black\" d=\"M181.44,-165.54C191.13,-162.76 200.85,-159.73 210,-156.5 220.33,-152.86 231.32,-148.17 241.13,-143.69\"/>\n<polygon fill=\"black\" stroke=\"black\" points=\"242.28,-146.55 249.85,-139.13 239.31,-140.21 242.28,-146.55\"/>\n</g>\n<!-- 140542673451152 -->\n<g id=\"node7\" class=\"node\">\n<title>140542673451152</title>\n<polygon fill=\"none\" stroke=\"black\" points=\"1.88,-110.5 1.88,-146.5 208.12,-146.5 208.12,-110.5 1.88,-110.5\"/>\n<text text-anchor=\"middle\" x=\"18.5\" y=\"-124.2\" font-family=\"Times,serif\" font-size=\"14.00\">x1</text>\n<polyline fill=\"none\" stroke=\"black\" points=\"35.12,-111.25 35.12,-146.5\"/>\n<text text-anchor=\"middle\" x=\"67.88\" y=\"-124.2\" font-family=\"Times,serif\" font-size=\"14.00\">2.0000</text>\n<polyline fill=\"none\" stroke=\"black\" points=\"100.62,-111.25 100.62,-146.5\"/>\n<text text-anchor=\"middle\" x=\"154.38\" y=\"-124.2\" font-family=\"Times,serif\" font-size=\"14.00\">grad &#45;1.5000</text>\n</g>\n<!-- 140542673451152&#45;&gt;140542673452048* -->\n<g id=\"edge17\" class=\"edge\">\n<title>140542673451152&#45;&gt;140542673452048*</title>\n<path fill=\"none\" stroke=\"black\" d=\"M207.82,-128.5C217.42,-128.5 226.66,-128.5 235,-128.5\"/>\n<polygon fill=\"black\" stroke=\"black\" points=\"234.75,-132 244.75,-128.5 234.75,-125 234.75,-132\"/>\n</g>\n<!-- 140542673449104 -->\n<g id=\"node8\" class=\"node\">\n<title>140542673449104</title>\n<polygon fill=\"none\" stroke=\"black\" points=\"338.25,-55.5 338.25,-91.5 567.75,-91.5 567.75,-55.5 338.25,-55.5\"/>\n<text text-anchor=\"middle\" x=\"368.75\" y=\"-69.2\" font-family=\"Times,serif\" font-size=\"14.00\">x2*w2</text>\n<polyline fill=\"none\" stroke=\"black\" points=\"399.25,-56.25 399.25,-91.5\"/>\n<text text-anchor=\"middle\" x=\"432\" y=\"-69.2\" font-family=\"Times,serif\" font-size=\"14.00\">0.0000</text>\n<polyline fill=\"none\" stroke=\"black\" points=\"464.75,-56.25 464.75,-91.5\"/>\n<text text-anchor=\"middle\" x=\"516.25\" y=\"-69.2\" font-family=\"Times,serif\" font-size=\"14.00\">grad 0.5000</text>\n</g>\n<!-- 140542673449104&#45;&gt;140542673447312+ -->\n<g id=\"edge25\" class=\"edge\">\n<title>140542673449104&#45;&gt;140542673447312+</title>\n<path fill=\"none\" stroke=\"black\" d=\"M567.74,-90.75C577.57,-92.24 586.97,-93.67 595.4,-94.95\"/>\n<polygon fill=\"black\" stroke=\"black\" points=\"594.82,-98.55 605.24,-96.59 595.87,-91.63 594.82,-98.55\"/>\n</g>\n<!-- 140542673449104* -->\n<g id=\"node9\" class=\"node\">\n<title>140542673449104*</title>\n<ellipse fill=\"none\" stroke=\"black\" cx=\"273\" cy=\"-73.5\" rx=\"27\" ry=\"18\"/>\n<text text-anchor=\"middle\" x=\"273\" y=\"-68.83\" font-family=\"Times,serif\" font-size=\"14.00\">*</text>\n</g>\n<!-- 140542673449104*&#45;&gt;140542673449104 -->\n<g id=\"edge3\" class=\"edge\">\n<title>140542673449104*&#45;&gt;140542673449104</title>\n<path fill=\"none\" stroke=\"black\" d=\"M300.26,-73.5C308.23,-73.5 317.56,-73.5 327.61,-73.5\"/>\n<polygon fill=\"black\" stroke=\"black\" points=\"327.32,-77 337.32,-73.5 327.32,-70 327.32,-77\"/>\n</g>\n<!-- 140543164091536 -->\n<g id=\"node10\" class=\"node\">\n<title>140543164091536</title>\n<polygon fill=\"none\" stroke=\"black\" points=\"4.12,-55.5 4.12,-91.5 205.88,-91.5 205.88,-55.5 4.12,-55.5\"/>\n<text text-anchor=\"middle\" x=\"20.75\" y=\"-69.2\" font-family=\"Times,serif\" font-size=\"14.00\">x2</text>\n<polyline fill=\"none\" stroke=\"black\" points=\"37.38,-56.25 37.38,-91.5\"/>\n<text text-anchor=\"middle\" x=\"70.12\" y=\"-69.2\" font-family=\"Times,serif\" font-size=\"14.00\">0.0000</text>\n<polyline fill=\"none\" stroke=\"black\" points=\"102.88,-56.25 102.88,-91.5\"/>\n<text text-anchor=\"middle\" x=\"154.38\" y=\"-69.2\" font-family=\"Times,serif\" font-size=\"14.00\">grad 0.5000</text>\n</g>\n<!-- 140543164091536&#45;&gt;140542673449104* -->\n<g id=\"edge24\" class=\"edge\">\n<title>140543164091536&#45;&gt;140542673449104*</title>\n<path fill=\"none\" stroke=\"black\" d=\"M205.44,-73.5C215.83,-73.5 225.86,-73.5 234.85,-73.5\"/>\n<polygon fill=\"black\" stroke=\"black\" points=\"234.62,-77 244.62,-73.5 234.62,-70 234.62,-77\"/>\n</g>\n<!-- 140542703223952 -->\n<g id=\"node11\" class=\"node\">\n<title>140542703223952</title>\n<polygon fill=\"none\" stroke=\"black\" points=\"1762.97,-136.5 1762.97,-172.5 1958.72,-172.5 1958.72,-136.5 1762.97,-136.5\"/>\n<text text-anchor=\"middle\" x=\"1774.35\" y=\"-150.2\" font-family=\"Times,serif\" font-size=\"14.00\">_</text>\n<polyline fill=\"none\" stroke=\"black\" points=\"1785.72,-137.25 1785.72,-172.5\"/>\n<text text-anchor=\"middle\" x=\"1818.47\" y=\"-150.2\" font-family=\"Times,serif\" font-size=\"14.00\">1.0000</text>\n<polyline fill=\"none\" stroke=\"black\" points=\"1851.22,-137.25 1851.22,-172.5\"/>\n<text text-anchor=\"middle\" x=\"1904.97\" y=\"-150.2\" font-family=\"Times,serif\" font-size=\"14.00\">grad &#45;0.1036</text>\n</g>\n<!-- 140542703227728+ -->\n<g id=\"node24\" class=\"node\">\n<title>140542703227728+</title>\n<ellipse fill=\"none\" stroke=\"black\" cx=\"2021.72\" cy=\"-126.5\" rx=\"27\" ry=\"18\"/>\n<text text-anchor=\"middle\" x=\"2021.72\" y=\"-121.83\" font-family=\"Times,serif\" font-size=\"14.00\">+</text>\n</g>\n<!-- 140542703223952&#45;&gt;140542703227728+ -->\n<g id=\"edge22\" class=\"edge\">\n<title>140542703223952&#45;&gt;140542703227728+</title>\n<path fill=\"none\" stroke=\"black\" d=\"M1958.39,-137.49C1967.57,-135.87 1976.44,-134.3 1984.46,-132.89\"/>\n<polygon fill=\"black\" stroke=\"black\" points=\"1984.95,-136.18 1994.19,-131 1983.73,-129.29 1984.95,-136.18\"/>\n</g>\n<!-- 140542703231184 -->\n<g id=\"node12\" class=\"node\">\n<title>140542703231184</title>\n<polygon fill=\"none\" stroke=\"black\" points=\"2860.97,-80.5 2860.97,-116.5 3053.72,-116.5 3053.72,-80.5 2860.97,-80.5\"/>\n<text text-anchor=\"middle\" x=\"2873.1\" y=\"-94.2\" font-family=\"Times,serif\" font-size=\"14.00\">o</text>\n<polyline fill=\"none\" stroke=\"black\" points=\"2885.22,-81.25 2885.22,-116.5\"/>\n<text text-anchor=\"middle\" x=\"2917.97\" y=\"-94.2\" font-family=\"Times,serif\" font-size=\"14.00\">0.7071</text>\n<polyline fill=\"none\" stroke=\"black\" points=\"2950.72,-81.25 2950.72,-116.5\"/>\n<text text-anchor=\"middle\" x=\"3002.22\" y=\"-94.2\" font-family=\"Times,serif\" font-size=\"14.00\">grad 1.0000</text>\n</g>\n<!-- 140542703231184*&#45;&gt;140542703231184 -->\n<g id=\"edge4\" class=\"edge\">\n<title>140542703231184*&#45;&gt;140542703231184</title>\n<path fill=\"none\" stroke=\"black\" d=\"M2825.31,-98.5C2832.67,-98.5 2841.15,-98.5 2850.18,-98.5\"/>\n<polygon fill=\"black\" stroke=\"black\" points=\"2849.99,-102 2859.99,-98.5 2849.99,-95 2849.99,-102\"/>\n</g>\n<!-- 140542673449168 -->\n<g id=\"node14\" class=\"node\">\n<title>140542673449168</title>\n<polygon fill=\"none\" stroke=\"black\" points=\"1122,-109.5 1122,-145.5 1315.5,-145.5 1315.5,-109.5 1122,-109.5\"/>\n<text text-anchor=\"middle\" x=\"1134.5\" y=\"-123.2\" font-family=\"Times,serif\" font-size=\"14.00\">n</text>\n<polyline fill=\"none\" stroke=\"black\" points=\"1147,-110.25 1147,-145.5\"/>\n<text text-anchor=\"middle\" x=\"1179.75\" y=\"-123.2\" font-family=\"Times,serif\" font-size=\"14.00\">0.8814</text>\n<polyline fill=\"none\" stroke=\"black\" points=\"1212.5,-110.25 1212.5,-145.5\"/>\n<text text-anchor=\"middle\" x=\"1264\" y=\"-123.2\" font-family=\"Times,serif\" font-size=\"14.00\">grad 0.5000</text>\n</g>\n<!-- 140542673453008* -->\n<g id=\"node20\" class=\"node\">\n<title>140542673453008*</title>\n<ellipse fill=\"none\" stroke=\"black\" cx=\"1378.5\" cy=\"-99.5\" rx=\"27\" ry=\"18\"/>\n<text text-anchor=\"middle\" x=\"1378.5\" y=\"-94.83\" font-family=\"Times,serif\" font-size=\"14.00\">*</text>\n</g>\n<!-- 140542673449168&#45;&gt;140542673453008* -->\n<g id=\"edge15\" class=\"edge\">\n<title>140542673449168&#45;&gt;140542673453008*</title>\n<path fill=\"none\" stroke=\"black\" d=\"M1315.15,-110.57C1324.33,-108.94 1333.19,-107.37 1341.21,-105.94\"/>\n<polygon fill=\"black\" stroke=\"black\" points=\"1341.7,-109.23 1350.94,-104.04 1340.48,-102.34 1341.7,-109.23\"/>\n</g>\n<!-- 140542673449168+ -->\n<g id=\"node15\" class=\"node\">\n<title>140542673449168+</title>\n<ellipse fill=\"none\" stroke=\"black\" cx=\"1059\" cy=\"-127.5\" rx=\"27\" ry=\"18\"/>\n<text text-anchor=\"middle\" x=\"1059\" y=\"-122.83\" font-family=\"Times,serif\" font-size=\"14.00\">+</text>\n</g>\n<!-- 140542673449168+&#45;&gt;140542673449168 -->\n<g id=\"edge5\" class=\"edge\">\n<title>140542673449168+&#45;&gt;140542673449168</title>\n<path fill=\"none\" stroke=\"black\" d=\"M1086.4,-127.5C1093.78,-127.5 1102.28,-127.5 1111.33,-127.5\"/>\n<polygon fill=\"black\" stroke=\"black\" points=\"1111.17,-131 1121.17,-127.5 1111.17,-124 1111.17,-131\"/>\n</g>\n<!-- 140543165057744 -->\n<g id=\"node16\" class=\"node\">\n<title>140543165057744</title>\n<polygon fill=\"none\" stroke=\"black\" points=\"1123.12,-54.5 1123.12,-90.5 1314.38,-90.5 1314.38,-54.5 1123.12,-54.5\"/>\n<text text-anchor=\"middle\" x=\"1134.5\" y=\"-68.2\" font-family=\"Times,serif\" font-size=\"14.00\">_</text>\n<polyline fill=\"none\" stroke=\"black\" points=\"1145.88,-55.25 1145.88,-90.5\"/>\n<text text-anchor=\"middle\" x=\"1178.62\" y=\"-68.2\" font-family=\"Times,serif\" font-size=\"14.00\">2.0000</text>\n<polyline fill=\"none\" stroke=\"black\" points=\"1211.38,-55.25 1211.38,-90.5\"/>\n<text text-anchor=\"middle\" x=\"1262.88\" y=\"-68.2\" font-family=\"Times,serif\" font-size=\"14.00\">grad 0.2203</text>\n</g>\n<!-- 140543165057744&#45;&gt;140542673453008* -->\n<g id=\"edge21\" class=\"edge\">\n<title>140543165057744&#45;&gt;140542673453008*</title>\n<path fill=\"none\" stroke=\"black\" d=\"M1314.25,-88.67C1323.72,-90.3 1332.88,-91.86 1341.15,-93.28\"/>\n<polygon fill=\"black\" stroke=\"black\" points=\"1340.38,-96.87 1350.82,-95.11 1341.56,-89.97 1340.38,-96.87\"/>\n</g>\n<!-- 140542701861584 -->\n<g id=\"node17\" class=\"node\">\n<title>140542701861584</title>\n<polygon fill=\"none\" stroke=\"black\" points=\"2543.72,-106.5 2543.72,-142.5 2734.97,-142.5 2734.97,-106.5 2543.72,-106.5\"/>\n<text text-anchor=\"middle\" x=\"2555.1\" y=\"-120.2\" font-family=\"Times,serif\" font-size=\"14.00\">_</text>\n<polyline fill=\"none\" stroke=\"black\" points=\"2566.47,-107.25 2566.47,-142.5\"/>\n<text text-anchor=\"middle\" x=\"2599.22\" y=\"-120.2\" font-family=\"Times,serif\" font-size=\"14.00\">0.1464</text>\n<polyline fill=\"none\" stroke=\"black\" points=\"2631.97,-107.25 2631.97,-142.5\"/>\n<text text-anchor=\"middle\" x=\"2683.47\" y=\"-120.2\" font-family=\"Times,serif\" font-size=\"14.00\">grad 4.8284</text>\n</g>\n<!-- 140542701861584&#45;&gt;140542703231184* -->\n<g id=\"edge26\" class=\"edge\">\n<title>140542701861584&#45;&gt;140542703231184*</title>\n<path fill=\"none\" stroke=\"black\" d=\"M2734.62,-108.85C2743.78,-107.33 2752.63,-105.86 2760.66,-104.53\"/>\n<polygon fill=\"black\" stroke=\"black\" points=\"2761.09,-107.84 2770.38,-102.75 2759.95,-100.93 2761.09,-107.84\"/>\n</g>\n<!-- 140542701861584**&#45;1 -->\n<g id=\"node18\" class=\"node\">\n<title>140542701861584**&#45;1</title>\n<ellipse fill=\"none\" stroke=\"black\" cx=\"2412.1\" cy=\"-126.5\" rx=\"30.16\" ry=\"18\"/>\n<text text-anchor=\"middle\" x=\"2412.1\" y=\"-121.83\" font-family=\"Times,serif\" font-size=\"14.00\">**&#45;1</text>\n</g>\n<!-- 140542701861584**&#45;1&#45;&gt;140542701861584 -->\n<g id=\"edge6\" class=\"edge\">\n<title>140542701861584**&#45;1&#45;&gt;140542701861584</title>\n<path fill=\"none\" stroke=\"black\" d=\"M2442.55,-126.24C2465.84,-126.03 2499.87,-125.73 2533.04,-125.44\"/>\n<polygon fill=\"black\" stroke=\"black\" points=\"2532.8,-128.93 2542.77,-125.34 2532.74,-121.93 2532.8,-128.93\"/>\n</g>\n<!-- 140542673453008 -->\n<g id=\"node19\" class=\"node\">\n<title>140542673453008</title>\n<polygon fill=\"none\" stroke=\"black\" points=\"1441.5,-81.5 1441.5,-117.5 1632.75,-117.5 1632.75,-81.5 1441.5,-81.5\"/>\n<text text-anchor=\"middle\" x=\"1452.88\" y=\"-95.2\" font-family=\"Times,serif\" font-size=\"14.00\">_</text>\n<polyline fill=\"none\" stroke=\"black\" points=\"1464.25,-82.25 1464.25,-117.5\"/>\n<text text-anchor=\"middle\" x=\"1497\" y=\"-95.2\" font-family=\"Times,serif\" font-size=\"14.00\">1.7627</text>\n<polyline fill=\"none\" stroke=\"black\" points=\"1529.75,-82.25 1529.75,-117.5\"/>\n<text text-anchor=\"middle\" x=\"1581.25\" y=\"-95.2\" font-family=\"Times,serif\" font-size=\"14.00\">grad 0.2500</text>\n</g>\n<!-- 140542675253200exp -->\n<g id=\"node28\" class=\"node\">\n<title>140542675253200exp</title>\n<ellipse fill=\"none\" stroke=\"black\" cx=\"1697.86\" cy=\"-99.5\" rx=\"29.11\" ry=\"18\"/>\n<text text-anchor=\"middle\" x=\"1697.86\" y=\"-94.83\" font-family=\"Times,serif\" font-size=\"14.00\">exp</text>\n</g>\n<!-- 140542673453008&#45;&gt;140542675253200exp -->\n<g id=\"edge14\" class=\"edge\">\n<title>140542673453008&#45;&gt;140542675253200exp</title>\n<path fill=\"none\" stroke=\"black\" d=\"M1632.3,-99.5C1641.09,-99.5 1649.63,-99.5 1657.47,-99.5\"/>\n<polygon fill=\"black\" stroke=\"black\" points=\"1657.39,-103 1667.39,-99.5 1657.39,-96 1657.39,-103\"/>\n</g>\n<!-- 140542673453008*&#45;&gt;140542673453008 -->\n<g id=\"edge7\" class=\"edge\">\n<title>140542673453008*&#45;&gt;140542673453008</title>\n<path fill=\"none\" stroke=\"black\" d=\"M1405.72,-99.5C1413.1,-99.5 1421.62,-99.5 1430.69,-99.5\"/>\n<polygon fill=\"black\" stroke=\"black\" points=\"1430.56,-103 1440.56,-99.5 1430.56,-96 1430.56,-103\"/>\n</g>\n<!-- 140542673447184 -->\n<g id=\"node21\" class=\"node\">\n<title>140542673447184</title>\n<polygon fill=\"none\" stroke=\"black\" points=\"749.25,-137.5 749.25,-173.5 942.75,-173.5 942.75,-137.5 749.25,-137.5\"/>\n<text text-anchor=\"middle\" x=\"761.75\" y=\"-151.2\" font-family=\"Times,serif\" font-size=\"14.00\">b</text>\n<polyline fill=\"none\" stroke=\"black\" points=\"774.25,-138.25 774.25,-173.5\"/>\n<text text-anchor=\"middle\" x=\"807\" y=\"-151.2\" font-family=\"Times,serif\" font-size=\"14.00\">6.8814</text>\n<polyline fill=\"none\" stroke=\"black\" points=\"839.75,-138.25 839.75,-173.5\"/>\n<text text-anchor=\"middle\" x=\"891.25\" y=\"-151.2\" font-family=\"Times,serif\" font-size=\"14.00\">grad 0.5000</text>\n</g>\n<!-- 140542673447184&#45;&gt;140542673449168+ -->\n<g id=\"edge20\" class=\"edge\">\n<title>140542673447184&#45;&gt;140542673449168+</title>\n<path fill=\"none\" stroke=\"black\" d=\"M942.62,-142.81C970.66,-139.09 999.64,-135.24 1021.55,-132.34\"/>\n<polygon fill=\"black\" stroke=\"black\" points=\"1021.86,-135.69 1031.31,-130.91 1020.94,-128.75 1021.86,-135.69\"/>\n</g>\n<!-- 140542673448336 -->\n<g id=\"node22\" class=\"node\">\n<title>140542673448336</title>\n<polygon fill=\"none\" stroke=\"black\" points=\"2.25,-0.5 2.25,-36.5 207.75,-36.5 207.75,-0.5 2.25,-0.5\"/>\n<text text-anchor=\"middle\" x=\"20.75\" y=\"-14.2\" font-family=\"Times,serif\" font-size=\"14.00\">w2</text>\n<polyline fill=\"none\" stroke=\"black\" points=\"39.25,-1.25 39.25,-36.5\"/>\n<text text-anchor=\"middle\" x=\"72\" y=\"-14.2\" font-family=\"Times,serif\" font-size=\"14.00\">1.0000</text>\n<polyline fill=\"none\" stroke=\"black\" points=\"104.75,-1.25 104.75,-36.5\"/>\n<text text-anchor=\"middle\" x=\"156.25\" y=\"-14.2\" font-family=\"Times,serif\" font-size=\"14.00\">grad 0.0000</text>\n</g>\n<!-- 140542673448336&#45;&gt;140542673449104* -->\n<g id=\"edge18\" class=\"edge\">\n<title>140542673448336&#45;&gt;140542673449104*</title>\n<path fill=\"none\" stroke=\"black\" d=\"M181.44,-36.46C191.13,-39.24 200.85,-42.27 210,-45.5 220.33,-49.14 231.32,-53.83 241.13,-58.31\"/>\n<polygon fill=\"black\" stroke=\"black\" points=\"239.31,-61.79 249.85,-62.87 242.28,-55.45 239.31,-61.79\"/>\n</g>\n<!-- 140542703227728 -->\n<g id=\"node23\" class=\"node\">\n<title>140542703227728</title>\n<polygon fill=\"none\" stroke=\"black\" points=\"2084.72,-108.5 2084.72,-144.5 2280.47,-144.5 2280.47,-108.5 2084.72,-108.5\"/>\n<text text-anchor=\"middle\" x=\"2096.1\" y=\"-122.2\" font-family=\"Times,serif\" font-size=\"14.00\">_</text>\n<polyline fill=\"none\" stroke=\"black\" points=\"2107.47,-109.25 2107.47,-144.5\"/>\n<text text-anchor=\"middle\" x=\"2140.22\" y=\"-122.2\" font-family=\"Times,serif\" font-size=\"14.00\">6.8284</text>\n<polyline fill=\"none\" stroke=\"black\" points=\"2172.97,-109.25 2172.97,-144.5\"/>\n<text text-anchor=\"middle\" x=\"2226.72\" y=\"-122.2\" font-family=\"Times,serif\" font-size=\"14.00\">grad &#45;0.1036</text>\n</g>\n<!-- 140542703227728&#45;&gt;140542701861584**&#45;1 -->\n<g id=\"edge11\" class=\"edge\">\n<title>140542703227728&#45;&gt;140542701861584**&#45;1</title>\n<path fill=\"none\" stroke=\"black\" d=\"M2280.41,-126.5C2312.08,-126.5 2345.54,-126.5 2370.68,-126.5\"/>\n<polygon fill=\"black\" stroke=\"black\" points=\"2370.61,-130 2380.61,-126.5 2370.61,-123 2370.61,-130\"/>\n</g>\n<!-- 140542703227728+&#45;&gt;140542703227728 -->\n<g id=\"edge8\" class=\"edge\">\n<title>140542703227728+&#45;&gt;140542703227728</title>\n<path fill=\"none\" stroke=\"black\" d=\"M2048.96,-126.5C2056.37,-126.5 2064.92,-126.5 2074.05,-126.5\"/>\n<polygon fill=\"black\" stroke=\"black\" points=\"2073.98,-130 2083.98,-126.5 2073.98,-123 2073.98,-130\"/>\n</g>\n<!-- 140542673447312 -->\n<g id=\"node25\" class=\"node\">\n<title>140542673447312</title>\n<polygon fill=\"none\" stroke=\"black\" points=\"696,-82.5 696,-118.5 996,-118.5 996,-82.5 696,-82.5\"/>\n<text text-anchor=\"middle\" x=\"759.5\" y=\"-96.2\" font-family=\"Times,serif\" font-size=\"14.00\">x1*w1 + x2*w2</text>\n<polyline fill=\"none\" stroke=\"black\" points=\"823,-83.25 823,-118.5\"/>\n<text text-anchor=\"middle\" x=\"858\" y=\"-96.2\" font-family=\"Times,serif\" font-size=\"14.00\">&#45;6.0000</text>\n<polyline fill=\"none\" stroke=\"black\" points=\"893,-83.25 893,-118.5\"/>\n<text text-anchor=\"middle\" x=\"944.5\" y=\"-96.2\" font-family=\"Times,serif\" font-size=\"14.00\">grad 0.5000</text>\n</g>\n<!-- 140542673447312&#45;&gt;140542673449168+ -->\n<g id=\"edge16\" class=\"edge\">\n<title>140542673447312&#45;&gt;140542673449168+</title>\n<path fill=\"none\" stroke=\"black\" d=\"M987.45,-118.47C999.79,-120.05 1011.42,-121.54 1021.53,-122.83\"/>\n<polygon fill=\"black\" stroke=\"black\" points=\"1020.91,-126.41 1031.27,-124.21 1021.8,-119.47 1020.91,-126.41\"/>\n</g>\n<!-- 140542673447312+&#45;&gt;140542673447312 -->\n<g id=\"edge9\" class=\"edge\">\n<title>140542673447312+&#45;&gt;140542673447312</title>\n<path fill=\"none\" stroke=\"black\" d=\"M660.3,-100.5C667.6,-100.5 676.1,-100.5 685.36,-100.5\"/>\n<polygon fill=\"black\" stroke=\"black\" points=\"685.12,-104 695.12,-100.5 685.12,-97 685.12,-104\"/>\n</g>\n<!-- 140542675253200 -->\n<g id=\"node27\" class=\"node\">\n<title>140542675253200</title>\n<polygon fill=\"none\" stroke=\"black\" points=\"1764.47,-81.5 1764.47,-117.5 1957.22,-117.5 1957.22,-81.5 1764.47,-81.5\"/>\n<text text-anchor=\"middle\" x=\"1776.6\" y=\"-95.2\" font-family=\"Times,serif\" font-size=\"14.00\">e</text>\n<polyline fill=\"none\" stroke=\"black\" points=\"1788.72,-82.25 1788.72,-117.5\"/>\n<text text-anchor=\"middle\" x=\"1821.47\" y=\"-95.2\" font-family=\"Times,serif\" font-size=\"14.00\">5.8284</text>\n<polyline fill=\"none\" stroke=\"black\" points=\"1854.22,-82.25 1854.22,-117.5\"/>\n<text text-anchor=\"middle\" x=\"1905.72\" y=\"-95.2\" font-family=\"Times,serif\" font-size=\"14.00\">grad 0.0429</text>\n</g>\n<!-- 140542675253200&#45;&gt;140542703229968+ -->\n<g id=\"edge19\" class=\"edge\">\n<title>140542675253200&#45;&gt;140542703229968+</title>\n<path fill=\"none\" stroke=\"black\" d=\"M1957.02,-82.73C1966.65,-81.03 1975.96,-79.39 1984.35,-77.91\"/>\n<polygon fill=\"black\" stroke=\"black\" points=\"1984.93,-81.19 1994.17,-76 1983.71,-74.29 1984.93,-81.19\"/>\n</g>\n<!-- 140542675253200&#45;&gt;140542703227728+ -->\n<g id=\"edge23\" class=\"edge\">\n<title>140542675253200&#45;&gt;140542703227728+</title>\n<path fill=\"none\" stroke=\"black\" d=\"M1957.02,-115.67C1966.65,-117.31 1975.96,-118.89 1984.35,-120.32\"/>\n<polygon fill=\"black\" stroke=\"black\" points=\"1983.72,-123.93 1994.17,-122.16 1984.9,-117.03 1983.72,-123.93\"/>\n</g>\n<!-- 140542675253200exp&#45;&gt;140542675253200 -->\n<g id=\"edge10\" class=\"edge\">\n<title>140542675253200exp&#45;&gt;140542675253200</title>\n<path fill=\"none\" stroke=\"black\" d=\"M1727.27,-99.5C1735.23,-99.5 1744.37,-99.5 1754.06,-99.5\"/>\n<polygon fill=\"black\" stroke=\"black\" points=\"1753.75,-103 1763.75,-99.5 1753.75,-96 1753.75,-103\"/>\n</g>\n</g>\n</svg>\n",
      "text/plain": [
       "<graphviz.graphs.Digraph at 0x7fd2a5e01910>"
      ]
     },
     "execution_count": 781,
     "metadata": {},
     "output_type": "execute_result"
    }
   ],
   "source": [
    "o.backward()\n",
    "draw_dot(o)"
   ]
  },
  {
   "cell_type": "code",
   "execution_count": 782,
   "metadata": {},
   "outputs": [
    {
     "name": "stdout",
     "output_type": "stream",
     "text": [
      "0.7071066904050358\n",
      "-----\n",
      "x1.grad -1.5000003851533106\n",
      "x2.grad 0.5000001283844369\n",
      "w1.grad 1.0000002567688737\n",
      "w2.grad 0.0\n"
     ]
    }
   ],
   "source": [
    "# single neuron backprop using torch\n",
    "\n",
    "import torch\n",
    "\n",
    "x1 = torch.tensor([2.0]).double(); \t\t\t\t\tx1.requires_grad=True\n",
    "x2 = torch.tensor([0.0]).double(); \t\t\t\t\tx2.requires_grad=True\n",
    "w1 = torch.tensor([-3.0]).double(); \t\t\t\tw1.requires_grad=True\n",
    "w2 = torch.tensor([1.0]).double(); \t\t\t\t\tw2.requires_grad=True\n",
    "b = torch.tensor([6.8813735870195432]).double(); \tb.requires_grad=True\n",
    "n = x1*w1 + x2*w2 + b; \n",
    "o = torch.tanh(n)\n",
    "\n",
    "print(o.data.item())\n",
    "o.backward()\n",
    "\n",
    "print(\"-----\")\n",
    "print(\"x1.grad\", x1.grad.item())\n",
    "print(\"x2.grad\", x2.grad.item())\n",
    "print(\"w1.grad\", w1.grad.item())\n",
    "print(\"w2.grad\", w2.grad.item())"
   ]
  },
  {
   "cell_type": "code",
   "execution_count": 783,
   "metadata": {},
   "outputs": [],
   "source": [
    "import random \n",
    "\n",
    "class Neuron:\n",
    "\tdef __init__(self, nin) -> None:\n",
    "\t\tself.w = [Value(random.uniform(-1, 1)) for _ in range(nin)]\n",
    "\t\tself.b = Value(random.uniform(-1, 1))\n",
    "\t\n",
    "\tdef __call__(self, x):\n",
    "\t\tact = sum((wi*xi for wi, xi in zip(self.w, x)), self.b)\n",
    "\t\tout = act.tanh()\n",
    "\t\treturn out\n",
    "\n",
    "\tdef parameters(self):\n",
    "\t\treturn self.w + [self.b]\n",
    "\n",
    "class Layer:\n",
    "\tdef __init__(self, nin, nout) -> None:\n",
    "\t\tself.neurons = [Neuron(nin) for _ in range(nout)]\n",
    "\t\n",
    "\tdef __call__(self, x):\n",
    "\t\touts = [n(x) for n in self.neurons]\n",
    "\t\treturn outs[0] if len(outs) == 1 else outs\n",
    "\n",
    "\tdef parameters(self):\n",
    "\t\treturn [p for neuron in self.neurons for p in neuron.parameters()]\n",
    "\n",
    "class MLP:\n",
    "\tdef __init__(self, nin, nouts) -> None:\n",
    "\t\tsz = [nin] + nouts\n",
    "\t\tself.layers = [Layer(sz[i], sz[i+1]) for i in range(len(nouts))]\n",
    "  \n",
    "\tdef __call__(self, x):\n",
    "\t\tfor layer in self.layers:\n",
    "\t\t\tx = layer(x)\n",
    "\t\treturn x\n",
    "\t\n",
    "\tdef parameters(self):\n",
    "\t\treturn [p for layer in self.layers for p in layer.parameters()]\n",
    "\n",
    "mlp = MLP(3, [4, 4, 1])"
   ]
  },
  {
   "cell_type": "code",
   "execution_count": 784,
   "metadata": {},
   "outputs": [],
   "source": [
    "xs = [\n",
    "\t[2.0, 3.0, -1.0],\n",
    "\t[3.0, -1.0, 0.5],\n",
    "\t[0.5, 1.0, 1.0],\n",
    "\t[1.0, 1.0, -1.0],\n",
    "]\n",
    "ys = [1.0, -1.0, -1.0, 1.0] # desired output\n"
   ]
  },
  {
   "cell_type": "code",
   "execution_count": 785,
   "metadata": {},
   "outputs": [],
   "source": [
    "steps = []\n",
    "losses = []\n",
    "for i in range(100):\n",
    "\t# forward pass\n",
    "\typred = [mlp(x) for x in xs]\n",
    "\tloss = sum([(yout - ygt)**2 for yout, ygt in zip(ys, ypred)])\n",
    "\n",
    "\t# backward pass\n",
    "\tfor p in mlp.parameters():\n",
    "\t\tp.grad = 0.0\n",
    "\tloss.backward()\n",
    "\n",
    "\t# update\n",
    "\tfor p in mlp.parameters():\n",
    "\t\tp.data += -0.05 * p.grad\n",
    "\t\n",
    "\tsteps.append(i)\n",
    "\tlosses.append(loss.data)"
   ]
  },
  {
   "cell_type": "code",
   "execution_count": 786,
   "metadata": {},
   "outputs": [
    {
     "data": {
      "text/plain": [
       "[<matplotlib.lines.Line2D at 0x7fd2a6203110>]"
      ]
     },
     "execution_count": 786,
     "metadata": {},
     "output_type": "execute_result"
    },
    {
     "data": {
      "image/png": "[encoded data removed]",
      "text/plain": [
       "<Figure size 640x480 with 1 Axes>"
      ]
     },
     "metadata": {},
     "output_type": "display_data"
    }
   ],
   "source": [
    "plt.plot(steps, losses)"
   ]
  },
  {
   "cell_type": "code",
   "execution_count": 787,
   "metadata": {},
   "outputs": [
    {
     "data": {
      "text/plain": [
       "[Value(_ data=0.9850805693852259),\n",
       " Value(_ data=-0.9535346510883119),\n",
       " Value(_ data=-0.9635083475287545),\n",
       " Value(_ data=0.9599004516424962)]"
      ]
     },
     "execution_count": 787,
     "metadata": {},
     "output_type": "execute_result"
    }
   ],
   "source": [
    "ypred"
   ]
  }
 ],
 "metadata": {
  "kernelspec": {
   "display_name": "Python 3",
   "language": "python",
   "name": "python3"
  },
  "language_info": {
   "codemirror_mode": {
    "name": "ipython",
    "version": 3
   },
   "file_extension": ".py",
   "mimetype": "text/x-python",
   "name": "python",
   "nbconvert_exporter": "python",
   "pygments_lexer": "ipython3",
   "version": "3.11.3"
  },
  "orig_nbformat": 4
 },
 "nbformat": 4,
 "nbformat_minor": 2
}
